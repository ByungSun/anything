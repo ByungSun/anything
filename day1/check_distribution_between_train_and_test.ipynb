{
 "cells": [
  {
   "cell_type": "markdown",
   "metadata": {},
   "source": [
    "# Train셋과 Test셋의 분포는 유사한가?\n",
    "\n",
    "- 해당 문서는 아래 미디엄글을 기반으로 작성되었음을 알립니다.\n",
    "    + 출처 : https://towardsdatascience.com/how-dis-similar-are-my-train-and-test-data-56af3923de9b"
   ]
  },
  {
   "cell_type": "markdown",
   "metadata": {},
   "source": [
    "## 서론\n",
    "\n",
    "- 캐글 컴피티션 및 회사 프로젝트에서 머신러닝을 활용한 모델을 만들 때 자주 겪는 문제중 하나는 Test셋의 모델 성능 이슈이다.\n",
    "- Train셋에는 (당연히) 성능이 좋게나오지만 이상하게 Test셋에서는 성능이 낮게 나오는 경우가 있다.\n",
    "- 우리는(사실 필자도 마찬가지..) 보통 오버피팅(overfitting)이라 생각하고 regularization 기법(L1 or L2 normalization 혹은 Tree계열 모델에서 terminal node의 샘플 수 조정 등)을 적용하지만 그렇지 않은 경우도 존재한다.\n",
    "- 바로 Train셋과 Test셋 분포가 다를 때 발생한다.\n",
    "- 여기에서는 오버피팅(overfitting)문제에 대해서는 따로 다루지 않는다. 그러니 오버피팅이 뭔지 알고싶다면 구글에 검색해서 한번 살펴보기 바란다."
   ]
  },
  {
   "cell_type": "markdown",
   "metadata": {},
   "source": [
    "## Train셋과 Test셋 분포의 차이\n",
    "\n",
    "- 2개의 데이터셋의 분포가 다르다는 의미는 설명변수의 분포에 대한 이야기이다.\n",
    "- 하나의 예로, 임의의 서비스를 이용하는 사용자의 나이이다.\n",
    "    + 즉, Train셋에서는 10 ~ 30대의 사용자 데이터가 대부분이고 이를 기반으로 모델을 생성했다.\n",
    "    + 그런데 성능평가를 수행할 Test셋에서는 40 ~ 60대의 사용자 데이터가 대부분이다.\n",
    "    + 만일 학습된 모델이 사용자의 나이를 중요한 설명변수로 보고있다면 Test셋에 대한 모델 성능은 낮아질 수 밖에 없을 것이다.\n",
    "    + 왜냐하면 학습에 사용된 Train셋은 40 ~ 60대의 사용자 나이가 거의 없기 때문에 학습이 제대로 안됐을 가능성이 크다.\n",
    "\n",
    "- 이렇게 각각의 데이터셋의 설명변수간의 분포차이가 있는 것을 Covariate Shift라고 부른다.\n",
    "- 아래 그림은 Covariate Shift가 있을 때 학습된 모델의 상황이다.\n",
    "    + 파란색 점이 Train set의 설명변수, 검정색 점이 Test set의 설명변수 분포이다.\n",
    "    + 빨간색 곡선은 정답이 되는 모델, 초록색 직선은 우리가 학습시킨 모델의 모습이다.\n",
    "\n",
    "![](https://miro.medium.com/max/1232/1*L8Ua86qfwVRJAnaH_KZdFQ.png)\n",
    "\n",
    "\n",
    "- 그렇다면 Train셋과 Test셋 분포 차이를 살펴보기 위해서는 어떻게 접근을 해야할까?\n",
    "- 필자의 경우 이전에는 시각화를 통해서 분포에 서로 차이가 있는지 살펴봤다.\n",
    "- 이런 작업은 중요하지만 변수가 적게는 수십개, 많게는 100개 200개이상이 되는 상황에서 시각화에만 의지한다면, 전체적인 작업의 효율이 떨어질 수 밖에 없다.\n",
    "- 실제로 캐글 컴피티션에서 그 많은 변수에 대해서 시각화만 주구장창하다가 지쳐서 포기한 경우가 있었다."
   ]
  },
  {
   "cell_type": "markdown",
   "metadata": {},
   "source": [
    "## 모델을 사용해보는건 어떨까?\n",
    "\n",
    "- 그렇다. 우리에게는 모델이라는 도구가 있다.\n",
    "- 모델을 무조건 사용하자는 입장은 아니다. 하지만 한번 생각해보자. 100개이상의 변수를 시각화하여 일일히 전부 살펴볼 것인가? 아니면 모델을 이용하여 쉽게 파악을 할 것인가?\n",
    "\n",
    "\n",
    "- 기본적인 아이디어는 다음과 같다.\n",
    "    + __Train셋과 Tes셋의 분포에 차이가 있다면, 이 둘의 차이를 가져오는 설명변수들이 존재할 것이고 이를 기반으로 Train셋과 Test셋을 구별할 수 있는 Binary Classifier를 만들 수 있을 것이다.__"
   ]
  },
  {
   "cell_type": "markdown",
   "metadata": {},
   "source": [
    "## 구현해보기\n",
    "\n",
    "- 기존 글에서는 캐글의 [porto-seguro-safe-driver-prediction](https://www.kaggle.com/c/porto-seguro-safe-driver-prediction/data) 데이터를 사용했다.\n",
    "- 여기서는 필자가 이전에 참여했었던 [IEEE-CIS Fraud Detection](https://www.kaggle.com/c/ieee-fraud-detection/data) 대회의 데이터를 사용해서 다시 구현했다.\n",
    "    + 단, 일부 변수만 사용해서 간단하게 Feature Engineering을 수행 후 살펴보도록한다."
   ]
  },
  {
   "cell_type": "code",
   "execution_count": 71,
   "metadata": {},
   "outputs": [],
   "source": [
    "import pandas as pd\n",
    "import numpy as np\n",
    "\n",
    "from sklearn.ensemble import RandomForestClassifier\n",
    "from sklearn.model_selection import StratifiedKFold as SKF\n",
    "from sklearn.metrics import roc_auc_score as AUC\n",
    "\n",
    "from multiprocessing import cpu_count\n",
    "\n",
    "from matplotlib import pyplot as plt\n",
    "import seaborn as sns"
   ]
  },
  {
   "cell_type": "code",
   "execution_count": 2,
   "metadata": {},
   "outputs": [],
   "source": [
    "train_transaction = pd.read_csv(\"data/train_transaction.csv\")\n",
    "test_transaction = pd.read_csv(\"data/test_transaction.csv\")"
   ]
  },
  {
   "cell_type": "code",
   "execution_count": 3,
   "metadata": {},
   "outputs": [
    {
     "name": "stdout",
     "output_type": "stream",
     "text": [
      "(590540, 394)\n"
     ]
    },
    {
     "data": {
      "text/html": [
       "<div>\n",
       "<style scoped>\n",
       "    .dataframe tbody tr th:only-of-type {\n",
       "        vertical-align: middle;\n",
       "    }\n",
       "\n",
       "    .dataframe tbody tr th {\n",
       "        vertical-align: top;\n",
       "    }\n",
       "\n",
       "    .dataframe thead th {\n",
       "        text-align: right;\n",
       "    }\n",
       "</style>\n",
       "<table border=\"1\" class=\"dataframe\">\n",
       "  <thead>\n",
       "    <tr style=\"text-align: right;\">\n",
       "      <th></th>\n",
       "      <th>TransactionID</th>\n",
       "      <th>isFraud</th>\n",
       "      <th>TransactionDT</th>\n",
       "      <th>TransactionAmt</th>\n",
       "      <th>ProductCD</th>\n",
       "      <th>card1</th>\n",
       "      <th>card2</th>\n",
       "      <th>card3</th>\n",
       "      <th>card4</th>\n",
       "      <th>card5</th>\n",
       "      <th>...</th>\n",
       "      <th>V330</th>\n",
       "      <th>V331</th>\n",
       "      <th>V332</th>\n",
       "      <th>V333</th>\n",
       "      <th>V334</th>\n",
       "      <th>V335</th>\n",
       "      <th>V336</th>\n",
       "      <th>V337</th>\n",
       "      <th>V338</th>\n",
       "      <th>V339</th>\n",
       "    </tr>\n",
       "  </thead>\n",
       "  <tbody>\n",
       "    <tr>\n",
       "      <td>0</td>\n",
       "      <td>2987000</td>\n",
       "      <td>0</td>\n",
       "      <td>86400</td>\n",
       "      <td>68.5</td>\n",
       "      <td>W</td>\n",
       "      <td>13926</td>\n",
       "      <td>NaN</td>\n",
       "      <td>150.0</td>\n",
       "      <td>discover</td>\n",
       "      <td>142.0</td>\n",
       "      <td>...</td>\n",
       "      <td>NaN</td>\n",
       "      <td>NaN</td>\n",
       "      <td>NaN</td>\n",
       "      <td>NaN</td>\n",
       "      <td>NaN</td>\n",
       "      <td>NaN</td>\n",
       "      <td>NaN</td>\n",
       "      <td>NaN</td>\n",
       "      <td>NaN</td>\n",
       "      <td>NaN</td>\n",
       "    </tr>\n",
       "    <tr>\n",
       "      <td>1</td>\n",
       "      <td>2987001</td>\n",
       "      <td>0</td>\n",
       "      <td>86401</td>\n",
       "      <td>29.0</td>\n",
       "      <td>W</td>\n",
       "      <td>2755</td>\n",
       "      <td>404.0</td>\n",
       "      <td>150.0</td>\n",
       "      <td>mastercard</td>\n",
       "      <td>102.0</td>\n",
       "      <td>...</td>\n",
       "      <td>NaN</td>\n",
       "      <td>NaN</td>\n",
       "      <td>NaN</td>\n",
       "      <td>NaN</td>\n",
       "      <td>NaN</td>\n",
       "      <td>NaN</td>\n",
       "      <td>NaN</td>\n",
       "      <td>NaN</td>\n",
       "      <td>NaN</td>\n",
       "      <td>NaN</td>\n",
       "    </tr>\n",
       "    <tr>\n",
       "      <td>2</td>\n",
       "      <td>2987002</td>\n",
       "      <td>0</td>\n",
       "      <td>86469</td>\n",
       "      <td>59.0</td>\n",
       "      <td>W</td>\n",
       "      <td>4663</td>\n",
       "      <td>490.0</td>\n",
       "      <td>150.0</td>\n",
       "      <td>visa</td>\n",
       "      <td>166.0</td>\n",
       "      <td>...</td>\n",
       "      <td>NaN</td>\n",
       "      <td>NaN</td>\n",
       "      <td>NaN</td>\n",
       "      <td>NaN</td>\n",
       "      <td>NaN</td>\n",
       "      <td>NaN</td>\n",
       "      <td>NaN</td>\n",
       "      <td>NaN</td>\n",
       "      <td>NaN</td>\n",
       "      <td>NaN</td>\n",
       "    </tr>\n",
       "    <tr>\n",
       "      <td>3</td>\n",
       "      <td>2987003</td>\n",
       "      <td>0</td>\n",
       "      <td>86499</td>\n",
       "      <td>50.0</td>\n",
       "      <td>W</td>\n",
       "      <td>18132</td>\n",
       "      <td>567.0</td>\n",
       "      <td>150.0</td>\n",
       "      <td>mastercard</td>\n",
       "      <td>117.0</td>\n",
       "      <td>...</td>\n",
       "      <td>NaN</td>\n",
       "      <td>NaN</td>\n",
       "      <td>NaN</td>\n",
       "      <td>NaN</td>\n",
       "      <td>NaN</td>\n",
       "      <td>NaN</td>\n",
       "      <td>NaN</td>\n",
       "      <td>NaN</td>\n",
       "      <td>NaN</td>\n",
       "      <td>NaN</td>\n",
       "    </tr>\n",
       "    <tr>\n",
       "      <td>4</td>\n",
       "      <td>2987004</td>\n",
       "      <td>0</td>\n",
       "      <td>86506</td>\n",
       "      <td>50.0</td>\n",
       "      <td>H</td>\n",
       "      <td>4497</td>\n",
       "      <td>514.0</td>\n",
       "      <td>150.0</td>\n",
       "      <td>mastercard</td>\n",
       "      <td>102.0</td>\n",
       "      <td>...</td>\n",
       "      <td>0.0</td>\n",
       "      <td>0.0</td>\n",
       "      <td>0.0</td>\n",
       "      <td>0.0</td>\n",
       "      <td>0.0</td>\n",
       "      <td>0.0</td>\n",
       "      <td>0.0</td>\n",
       "      <td>0.0</td>\n",
       "      <td>0.0</td>\n",
       "      <td>0.0</td>\n",
       "    </tr>\n",
       "  </tbody>\n",
       "</table>\n",
       "<p>5 rows × 394 columns</p>\n",
       "</div>"
      ],
      "text/plain": [
       "   TransactionID  isFraud  TransactionDT  TransactionAmt ProductCD  card1  \\\n",
       "0        2987000        0          86400            68.5         W  13926   \n",
       "1        2987001        0          86401            29.0         W   2755   \n",
       "2        2987002        0          86469            59.0         W   4663   \n",
       "3        2987003        0          86499            50.0         W  18132   \n",
       "4        2987004        0          86506            50.0         H   4497   \n",
       "\n",
       "   card2  card3       card4  card5  ... V330  V331  V332  V333  V334 V335  \\\n",
       "0    NaN  150.0    discover  142.0  ...  NaN   NaN   NaN   NaN   NaN  NaN   \n",
       "1  404.0  150.0  mastercard  102.0  ...  NaN   NaN   NaN   NaN   NaN  NaN   \n",
       "2  490.0  150.0        visa  166.0  ...  NaN   NaN   NaN   NaN   NaN  NaN   \n",
       "3  567.0  150.0  mastercard  117.0  ...  NaN   NaN   NaN   NaN   NaN  NaN   \n",
       "4  514.0  150.0  mastercard  102.0  ...  0.0   0.0   0.0   0.0   0.0  0.0   \n",
       "\n",
       "  V336  V337  V338  V339  \n",
       "0  NaN   NaN   NaN   NaN  \n",
       "1  NaN   NaN   NaN   NaN  \n",
       "2  NaN   NaN   NaN   NaN  \n",
       "3  NaN   NaN   NaN   NaN  \n",
       "4  0.0   0.0   0.0   0.0  \n",
       "\n",
       "[5 rows x 394 columns]"
      ]
     },
     "execution_count": 3,
     "metadata": {},
     "output_type": "execute_result"
    }
   ],
   "source": [
    "print(train_transaction.shape)\n",
    "train_transaction.head()"
   ]
  },
  {
   "cell_type": "code",
   "execution_count": 4,
   "metadata": {},
   "outputs": [
    {
     "name": "stdout",
     "output_type": "stream",
     "text": [
      "(506691, 393)\n"
     ]
    },
    {
     "data": {
      "text/html": [
       "<div>\n",
       "<style scoped>\n",
       "    .dataframe tbody tr th:only-of-type {\n",
       "        vertical-align: middle;\n",
       "    }\n",
       "\n",
       "    .dataframe tbody tr th {\n",
       "        vertical-align: top;\n",
       "    }\n",
       "\n",
       "    .dataframe thead th {\n",
       "        text-align: right;\n",
       "    }\n",
       "</style>\n",
       "<table border=\"1\" class=\"dataframe\">\n",
       "  <thead>\n",
       "    <tr style=\"text-align: right;\">\n",
       "      <th></th>\n",
       "      <th>TransactionID</th>\n",
       "      <th>TransactionDT</th>\n",
       "      <th>TransactionAmt</th>\n",
       "      <th>ProductCD</th>\n",
       "      <th>card1</th>\n",
       "      <th>card2</th>\n",
       "      <th>card3</th>\n",
       "      <th>card4</th>\n",
       "      <th>card5</th>\n",
       "      <th>card6</th>\n",
       "      <th>...</th>\n",
       "      <th>V330</th>\n",
       "      <th>V331</th>\n",
       "      <th>V332</th>\n",
       "      <th>V333</th>\n",
       "      <th>V334</th>\n",
       "      <th>V335</th>\n",
       "      <th>V336</th>\n",
       "      <th>V337</th>\n",
       "      <th>V338</th>\n",
       "      <th>V339</th>\n",
       "    </tr>\n",
       "  </thead>\n",
       "  <tbody>\n",
       "    <tr>\n",
       "      <td>0</td>\n",
       "      <td>3663549</td>\n",
       "      <td>18403224</td>\n",
       "      <td>31.95</td>\n",
       "      <td>W</td>\n",
       "      <td>10409</td>\n",
       "      <td>111.0</td>\n",
       "      <td>150.0</td>\n",
       "      <td>visa</td>\n",
       "      <td>226.0</td>\n",
       "      <td>debit</td>\n",
       "      <td>...</td>\n",
       "      <td>NaN</td>\n",
       "      <td>NaN</td>\n",
       "      <td>NaN</td>\n",
       "      <td>NaN</td>\n",
       "      <td>NaN</td>\n",
       "      <td>NaN</td>\n",
       "      <td>NaN</td>\n",
       "      <td>NaN</td>\n",
       "      <td>NaN</td>\n",
       "      <td>NaN</td>\n",
       "    </tr>\n",
       "    <tr>\n",
       "      <td>1</td>\n",
       "      <td>3663550</td>\n",
       "      <td>18403263</td>\n",
       "      <td>49.00</td>\n",
       "      <td>W</td>\n",
       "      <td>4272</td>\n",
       "      <td>111.0</td>\n",
       "      <td>150.0</td>\n",
       "      <td>visa</td>\n",
       "      <td>226.0</td>\n",
       "      <td>debit</td>\n",
       "      <td>...</td>\n",
       "      <td>NaN</td>\n",
       "      <td>NaN</td>\n",
       "      <td>NaN</td>\n",
       "      <td>NaN</td>\n",
       "      <td>NaN</td>\n",
       "      <td>NaN</td>\n",
       "      <td>NaN</td>\n",
       "      <td>NaN</td>\n",
       "      <td>NaN</td>\n",
       "      <td>NaN</td>\n",
       "    </tr>\n",
       "    <tr>\n",
       "      <td>2</td>\n",
       "      <td>3663551</td>\n",
       "      <td>18403310</td>\n",
       "      <td>171.00</td>\n",
       "      <td>W</td>\n",
       "      <td>4476</td>\n",
       "      <td>574.0</td>\n",
       "      <td>150.0</td>\n",
       "      <td>visa</td>\n",
       "      <td>226.0</td>\n",
       "      <td>debit</td>\n",
       "      <td>...</td>\n",
       "      <td>NaN</td>\n",
       "      <td>NaN</td>\n",
       "      <td>NaN</td>\n",
       "      <td>NaN</td>\n",
       "      <td>NaN</td>\n",
       "      <td>NaN</td>\n",
       "      <td>NaN</td>\n",
       "      <td>NaN</td>\n",
       "      <td>NaN</td>\n",
       "      <td>NaN</td>\n",
       "    </tr>\n",
       "    <tr>\n",
       "      <td>3</td>\n",
       "      <td>3663552</td>\n",
       "      <td>18403310</td>\n",
       "      <td>284.95</td>\n",
       "      <td>W</td>\n",
       "      <td>10989</td>\n",
       "      <td>360.0</td>\n",
       "      <td>150.0</td>\n",
       "      <td>visa</td>\n",
       "      <td>166.0</td>\n",
       "      <td>debit</td>\n",
       "      <td>...</td>\n",
       "      <td>NaN</td>\n",
       "      <td>NaN</td>\n",
       "      <td>NaN</td>\n",
       "      <td>NaN</td>\n",
       "      <td>NaN</td>\n",
       "      <td>NaN</td>\n",
       "      <td>NaN</td>\n",
       "      <td>NaN</td>\n",
       "      <td>NaN</td>\n",
       "      <td>NaN</td>\n",
       "    </tr>\n",
       "    <tr>\n",
       "      <td>4</td>\n",
       "      <td>3663553</td>\n",
       "      <td>18403317</td>\n",
       "      <td>67.95</td>\n",
       "      <td>W</td>\n",
       "      <td>18018</td>\n",
       "      <td>452.0</td>\n",
       "      <td>150.0</td>\n",
       "      <td>mastercard</td>\n",
       "      <td>117.0</td>\n",
       "      <td>debit</td>\n",
       "      <td>...</td>\n",
       "      <td>NaN</td>\n",
       "      <td>NaN</td>\n",
       "      <td>NaN</td>\n",
       "      <td>NaN</td>\n",
       "      <td>NaN</td>\n",
       "      <td>NaN</td>\n",
       "      <td>NaN</td>\n",
       "      <td>NaN</td>\n",
       "      <td>NaN</td>\n",
       "      <td>NaN</td>\n",
       "    </tr>\n",
       "  </tbody>\n",
       "</table>\n",
       "<p>5 rows × 393 columns</p>\n",
       "</div>"
      ],
      "text/plain": [
       "   TransactionID  TransactionDT  TransactionAmt ProductCD  card1  card2  \\\n",
       "0        3663549       18403224           31.95         W  10409  111.0   \n",
       "1        3663550       18403263           49.00         W   4272  111.0   \n",
       "2        3663551       18403310          171.00         W   4476  574.0   \n",
       "3        3663552       18403310          284.95         W  10989  360.0   \n",
       "4        3663553       18403317           67.95         W  18018  452.0   \n",
       "\n",
       "   card3       card4  card5  card6  ...  V330  V331  V332  V333 V334 V335  \\\n",
       "0  150.0        visa  226.0  debit  ...   NaN   NaN   NaN   NaN  NaN  NaN   \n",
       "1  150.0        visa  226.0  debit  ...   NaN   NaN   NaN   NaN  NaN  NaN   \n",
       "2  150.0        visa  226.0  debit  ...   NaN   NaN   NaN   NaN  NaN  NaN   \n",
       "3  150.0        visa  166.0  debit  ...   NaN   NaN   NaN   NaN  NaN  NaN   \n",
       "4  150.0  mastercard  117.0  debit  ...   NaN   NaN   NaN   NaN  NaN  NaN   \n",
       "\n",
       "   V336  V337  V338  V339  \n",
       "0   NaN   NaN   NaN   NaN  \n",
       "1   NaN   NaN   NaN   NaN  \n",
       "2   NaN   NaN   NaN   NaN  \n",
       "3   NaN   NaN   NaN   NaN  \n",
       "4   NaN   NaN   NaN   NaN  \n",
       "\n",
       "[5 rows x 393 columns]"
      ]
     },
     "execution_count": 4,
     "metadata": {},
     "output_type": "execute_result"
    }
   ],
   "source": [
    "print(test_transaction.shape)\n",
    "test_transaction.head()"
   ]
  },
  {
   "cell_type": "markdown",
   "metadata": {},
   "source": [
    "- 해당 데이터에는 V1 ~ V339 변수가 포함되어있다. 이 변수들중 V1 ~ V100까지만 추출하여 구현해보도록하겠다. (메모리 이슈)"
   ]
  },
  {
   "cell_type": "code",
   "execution_count": 5,
   "metadata": {},
   "outputs": [],
   "source": [
    "v_cols = [f\"V{i}\" for i in range(1, 100)]\n",
    "train_transaction = train_transaction[[\"TransactionID\"] + v_cols]\n",
    "test_transaction = test_transaction[[\"TransactionID\"] + v_cols]"
   ]
  },
  {
   "cell_type": "code",
   "execution_count": 6,
   "metadata": {},
   "outputs": [
    {
     "name": "stdout",
     "output_type": "stream",
     "text": [
      "True\n"
     ]
    }
   ],
   "source": [
    "print((train_transaction[v_cols].min() < 0).sum() == 0)"
   ]
  },
  {
   "cell_type": "markdown",
   "metadata": {},
   "source": [
    "- V1 ~ V100까지 변수들중 최소값이 음수인 경우는 없으므로 NA를 -1로 대체하겠다."
   ]
  },
  {
   "cell_type": "code",
   "execution_count": 7,
   "metadata": {},
   "outputs": [],
   "source": [
    "train_transaction[v_cols] = train_transaction[v_cols].fillna(-1)\n",
    "test_transaction[v_cols] = test_transaction[v_cols].fillna(-1)"
   ]
  },
  {
   "cell_type": "markdown",
   "metadata": {},
   "source": [
    "- `is_train` 변수추가 : 해당 변수는 Train set에 포함되는지 여부를 나타내는 변수이다. Train set에서는 전부 1, Test sest에서는 전부 0로 셋팅한다."
   ]
  },
  {
   "cell_type": "code",
   "execution_count": 8,
   "metadata": {},
   "outputs": [],
   "source": [
    "train_transaction[\"is_train\"] = 1\n",
    "test_transaction[\"is_train\"] = 0"
   ]
  },
  {
   "cell_type": "markdown",
   "metadata": {},
   "source": [
    "- 2개의 데이터셋을 합친다."
   ]
  },
  {
   "cell_type": "code",
   "execution_count": 9,
   "metadata": {},
   "outputs": [],
   "source": [
    "all_transaction = pd.concat([train_transaction, test_transaction], axis=0, ignore_index=True)"
   ]
  },
  {
   "cell_type": "markdown",
   "metadata": {},
   "source": [
    "- 이제 모델을 만들어보도록하자.\n",
    "    + 랜덤포레스트를 사용했으며, 클래스 불균형을 막고자 StratifiedKFold를 수행했다.\n",
    "    + 여기서 StratifiedKFold 수행시 n_split을 20으로 줬는데 해당 값은 선택사항이므로 10으로 바꿔도 상관없다."
   ]
  },
  {
   "cell_type": "code",
   "execution_count": 76,
   "metadata": {},
   "outputs": [],
   "source": [
    "X, y = all_transaction[v_cols].values, all_transaction[\"is_train\"].values"
   ]
  },
  {
   "cell_type": "code",
   "execution_count": 77,
   "metadata": {},
   "outputs": [],
   "source": [
    "m = RandomForestClassifier(n_jobs=cpu_count()-2, max_depth=5, min_samples_leaf = 30)\n",
    "predictions = np.zeros(y.shape)"
   ]
  },
  {
   "cell_type": "code",
   "execution_count": 81,
   "metadata": {},
   "outputs": [],
   "source": [
    "var_imps = pd.DataFrame({\"variables\": v_cols,})\n",
    "var_imps[\"importance\"] = 0"
   ]
  },
  {
   "cell_type": "code",
   "execution_count": 82,
   "metadata": {},
   "outputs": [
    {
     "name": "stderr",
     "output_type": "stream",
     "text": [
      "/mnt/d/conda/lib/python3.7/site-packages/sklearn/ensemble/forest.py:245: FutureWarning: The default value of n_estimators will change from 10 in version 0.20 to 100 in 0.22.\n",
      "  \"10 in version 0.20 to 100 in 0.22.\", FutureWarning)\n"
     ]
    }
   ],
   "source": [
    "n_splits=20\n",
    "skf = SKF(n_splits=n_splits, shuffle=True, random_state=100)\n",
    "\n",
    "for fold, (train_idx, test_idx) in enumerate(skf.split(X, y)):\n",
    "    X_train, X_test = X[train_idx], X[test_idx]\n",
    "    y_train, y_test = y[train_idx], y[test_idx]\n",
    "\n",
    "    m.fit(X_train, y_train)\n",
    "    probs = m.predict_proba(X_test)[:, 1] #calculating the probability\n",
    "    predictions[test_idx] = probs\n",
    "    \n",
    "    var_imps[\"importance\"] += m.feature_importances_ / n_splits"
   ]
  },
  {
   "cell_type": "markdown",
   "metadata": {},
   "source": [
    "- 랜덤포레스트를 이용하여 Binary Classifer를 만들었다. 이제 AUC를 평가해보도록한다."
   ]
  },
  {
   "cell_type": "code",
   "execution_count": 83,
   "metadata": {},
   "outputs": [
    {
     "name": "stdout",
     "output_type": "stream",
     "text": [
      "ROC-AUC for train and test distributions: 0.7060630718901427\n"
     ]
    }
   ],
   "source": [
    "print('ROC-AUC for train and test distributions:', AUC(y, predictions))"
   ]
  },
  {
   "cell_type": "markdown",
   "metadata": {},
   "source": [
    "- 만일 Train set과 Test set간에 차이가 크지 않았다면, AUC는 0.5에 가깝게 나와야한다.\n",
    "- 그러나 AUC는 0.70을 넘는데 이는 Train set과 Test set간에 차이가 날 가능성이 크다.\n",
    "- 그렇다면 V1 ~ V100중 어떤 변수가 가장 중요한가?\n",
    "    + 평균 변수중요도 기준 상위 10에 해당하는 변수를 추출했다."
   ]
  },
  {
   "cell_type": "code",
   "execution_count": 86,
   "metadata": {},
   "outputs": [],
   "source": [
    "var_imps = var_imps.sort_values(by=\"importance\", ascending=False).reset_index(drop=True)"
   ]
  },
  {
   "cell_type": "code",
   "execution_count": 87,
   "metadata": {},
   "outputs": [
    {
     "data": {
      "text/plain": [
       "<matplotlib.axes._subplots.AxesSubplot at 0x7f0b0a3af650>"
      ]
     },
     "execution_count": 87,
     "metadata": {},
     "output_type": "execute_result"
    },
    {
     "data": {
      "image/png": "[encoded data removed]",
      "text/plain": [
       "<Figure size 720x576 with 1 Axes>"
      ]
     },
     "metadata": {
      "needs_background": "light"
     },
     "output_type": "display_data"
    }
   ],
   "source": [
    "plt.figure(figsize=(10, 8))\n",
    "sns.barplot(data=var_imps[:10], x=\"importance\", y=\"variables\", orient=\"h\")"
   ]
  },
  {
   "cell_type": "markdown",
   "metadata": {},
   "source": [
    "- 여기서 V77이 가장 높게 나왔으며, 이 변수를 scatter plot으로 시각화 하면 다음과 같다."
   ]
  },
  {
   "cell_type": "code",
   "execution_count": 124,
   "metadata": {},
   "outputs": [
    {
     "data": {
      "text/plain": [
       "<matplotlib.axes._subplots.AxesSubplot at 0x7f09e9e6d390>"
      ]
     },
     "execution_count": 124,
     "metadata": {},
     "output_type": "execute_result"
    },
    {
     "data": {
      "image/png": "[encoded data removed]",
      "text/plain": [
       "<Figure size 1728x576 with 2 Axes>"
      ]
     },
     "metadata": {
      "needs_background": "light"
     },
     "output_type": "display_data"
    }
   ],
   "source": [
    "fig, axes = plt.subplots(ncols=2, nrows=1)\n",
    "fig.set_size_inches(w=24, h=8)\n",
    "sns.scatterplot(data=all_transaction, x=\"is_train\", y=\"V77\", ax=axes[0])\n",
    "\n",
    "train_v77 = all_transaction.loc[all_transaction[\"is_train\"] == 1, \"V77\"]\n",
    "test_v77 = all_transaction.loc[all_transaction[\"is_train\"] == 0, \"V77\"]\n",
    "sns.distplot(train_v77, label=\"Train\", ax=axes[1])\n",
    "sns.distplot(test_v77, label=\"Test\", ax=axes[1])"
   ]
  },
  {
   "cell_type": "markdown",
   "metadata": {},
   "source": [
    "- Test셋의 V77의 경우 Train셋의 V77 최댓값보다 더 큰 값들이 존재하며, Train셋과 Test셋간의 V77분포 차이가 있다는 것을 확인 할 수 있다.\n",
    "- 분포차이가 있는 것은 확인했으니 이 다음에는 무엇을 더 진행하면 좋을까?"
   ]
  },
  {
   "cell_type": "markdown",
   "metadata": {},
   "source": [
    "## 변수제거\n",
    "\n",
    "- 해당 방법은 Covariate Shift 문제가 관측됐을때 적용가능한 방법이다.\n",
    "- 이 방법은 아래와 같이 진행한다.\n",
    "    + 위에서 만든 모델의 변수중요도를 기준으로 가장 높은 변수를 하나 제거한다.\n",
    "    + 기존 문제를 푸는 모델을 만든 후 성능을 떨어뜨리지 않는 변수들을 모은다.\n",
    "    + 이러한 과정을 반복하면서 분포차이를 일으키는 변수들을 전부 제거한다."
   ]
  },
  {
   "cell_type": "markdown",
   "metadata": {},
   "source": [
    "## Weighted Sampling\n",
    "\n",
    "- 해당 방법은 Covariate Shift 문제와 관계없이 적용가능한 방법이지만 여기서는 해당 문제에 촛점을 맞추어서 설명하겠다.\n",
    "- Train 셋이라해도 Test 셋과 유사한 관측치가 있을 것이다.\n",
    "- 이러한 경우 가중치를 후 Test 셋과 유사한 관측치를 샘플링하도록 적용할 수 있다.\n",
    "- 가중치는 아래와 같이 계산이 가능하다.\n",
    "    + $weight_i = \\frac{P(test_i)}{P(train_i)} = \\frac{P(test_i)}{1 - P(test_i)}$\n",
    "    + i는 관측치의 index를 뜻한다.\n",
    "    + 즉, i번째 관측치가 Train set 일 확률에 비해 Test set 일 확률로 Odds를 계산한 것이다.\n",
    "\n",
    "\n",
    "- 구현하기 전에 Train 셋에서 가중치 분포를 확인해보도록한다."
   ]
  },
  {
   "cell_type": "code",
   "execution_count": 140,
   "metadata": {},
   "outputs": [
    {
     "data": {
      "text/plain": [
       "<matplotlib.axes._subplots.AxesSubplot at 0x7f09ea070f50>"
      ]
     },
     "execution_count": 140,
     "metadata": {},
     "output_type": "execute_result"
    },
    {
     "data": {
      "image/png": "[encoded data removed]",
      "text/plain": [
       "<Figure size 1440x360 with 1 Axes>"
      ]
     },
     "metadata": {
      "needs_background": "light"
     },
     "output_type": "display_data"
    }
   ],
   "source": [
    "plt.figure(figsize=(20,5))\n",
    "predictions_train = predictions[:590540] #filtering the actual training rows\n",
    "weights = (1./predictions_train) - 1. \n",
    "weights /= np.mean(weights) # Normalizing the weights\n",
    "\n",
    "plt.xlabel('Computed sample weight')\n",
    "plt.ylabel(\"# Samples\")\n",
    "sns.distplot(weights, kde=False)"
   ]
  },
  {
   "cell_type": "code",
   "execution_count": 148,
   "metadata": {},
   "outputs": [
    {
     "data": {
      "text/plain": [
       "array([3.93370798e+01, 1.39775958e+00, 1.37874074e+00, 1.35774295e+00,\n",
       "       1.29086345e+00, 1.18971632e+00, 1.02431664e+00, 3.66158302e-01,\n",
       "       3.31035011e-01, 1.93062695e-01, 2.01986670e-02])"
      ]
     },
     "execution_count": 148,
     "metadata": {},
     "output_type": "execute_result"
    }
   ],
   "source": [
    "np.quantile(weights, q=np.arange(0, 1.1, 0.1)[::-1])"
   ]
  },
  {
   "cell_type": "markdown",
   "metadata": {},
   "source": [
    "- 1보다 큰 가중치들에 한해 가중치가 커질수록 Test 셋에 유사해진다.\n",
    "- 분위수를 계산해보면 Train 셋의 상위 60%가 Test 셋에 더 가깝다는 결과가 나온다.\n",
    "    + 이는 Test 셋과 유사한 Train 셋의 관측치가 약 60%정도 된다는 의미이다.\n",
    "- 이 가중치는 기존 문제에 대한 모델을 만들 때 Weighted Sampling에 사용될 수 있다."
   ]
  },
  {
   "cell_type": "markdown",
   "metadata": {},
   "source": [
    "## 정리\n",
    "\n",
    "- 나름대로 이해한걸 바탕으로 해당 아이디어를 정리해보고 다른 데이터셋에 적용하여 직접 구현까지 시도했습니다.\n",
    "- 머신러닝 모델을 이렇게도 사용할 수 있다는 걸 보여준 글이라는 점에 대해서 꽤 인상적인 자료였습니다.\n",
    "- 특히 원래 풀고자하는 문제에 대해 모델을 만들었는데 Test 셋에 적용한 모델 성능이 그다지 좋지않고 오버피팅이 아니라면 이 방법을 통해 분포차이가 있는지 여부를 확인 후 만일 그렇다면 변수제거 및 Weighted Sampling을 통해 모델의 성능 개선을 이끌어 낼 수 있을 것 같습니다.\n",
    "- 다만 이렇게 모델이 활용될 수 있다는 관점으로 접근해야지 이 글을 통해서 \"모델을 이용한 방법론이 무조건 짱이네!\" 라는 결론을 내리면 안됩니다.\n",
    "- 어떤 아이디어가 떠오른다면 머신러닝 모델을 적용해도 되는지 우선 생각해보고나서 사용했으면 합니다.\n",
    "- 혹시 잘못이야기한 부분이 있다면, byung2070@gmail.com 으로 피드백 보내주시면 수정 및 보완을 하겠습니다."
   ]
  },
  {
   "cell_type": "code",
   "execution_count": null,
   "metadata": {},
   "outputs": [],
   "source": []
  }
 ],
 "metadata": {
  "kernelspec": {
   "display_name": "Python 3",
   "language": "python",
   "name": "python3"
  },
  "language_info": {
   "codemirror_mode": {
    "name": "ipython",
    "version": 3
   },
   "file_extension": ".py",
   "mimetype": "text/x-python",
   "name": "python",
   "nbconvert_exporter": "python",
   "pygments_lexer": "ipython3",
   "version": "3.7.4"
  }
 },
 "nbformat": 4,
 "nbformat_minor": 4
}
